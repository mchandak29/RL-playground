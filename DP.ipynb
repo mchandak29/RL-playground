{
 "cells": [
  {
   "cell_type": "markdown",
   "metadata": {},
   "source": [
    "# Solving GridWorld using Dynamic Programming"
   ]
  },
  {
   "cell_type": "code",
   "execution_count": 2,
   "metadata": {},
   "outputs": [],
   "source": [
    "import numpy as np\n",
    "import sys\n",
    "from env.gridworld import GridworldEnv\n",
    "import matplotlib.pyplot as plt"
   ]
  },
  {
   "cell_type": "code",
   "execution_count": 3,
   "metadata": {},
   "outputs": [],
   "source": [
    "env = GridworldEnv()"
   ]
  },
  {
   "cell_type": "code",
   "execution_count": 8,
   "metadata": {},
   "outputs": [
    {
     "name": "stdout",
     "output_type": "stream",
     "text": [
      "Action Space for GridWorld : Discrete(4)\n",
      "Number of States in GridWorld : Discrete(16)\n"
     ]
    }
   ],
   "source": [
    "print(\"Action Space for GridWorld : {}\".format(env.action_space))\n",
    "print(\"Number of States in GridWorld : {}\".format(env.observation_space)) "
   ]
  },
  {
   "cell_type": "markdown",
   "metadata": {},
   "source": [
    "## Policy iteration "
   ]
  },
  {
   "cell_type": "code",
   "execution_count": 9,
   "metadata": {},
   "outputs": [],
   "source": [
    "def policy_eval(policy, env, discount_factor=1.0, theta=1e-4):\n",
    "    \"\"\"\n",
    "    function to evaluate any policy\n",
    "    \n",
    "    input: policy to be evaluated, gym env object\n",
    "    output: value function \n",
    "    \n",
    "    \"\"\"\n",
    "    \n",
    "    V = np.zeros(env.nS) #start with zero value\n",
    "    \n",
    "    while True:\n",
    "        change = 0\n",
    "        for s in range(env.nS):\n",
    "            v = 0\n",
    "            for a,action_prob in enumerate(policy[s]):\n",
    "                for prob,next_state,reward,done in env.P[s][a]:\n",
    "                    v+=action_prob*prob*(reward+discount_factor*V[next_state])\n",
    "            change+=abs(V[s]-v)\n",
    "            V[s]=v\n",
    "            \n",
    "        if(change<theta):\n",
    "            #if no change\n",
    "            break\n",
    "\n",
    "    return np.array(V)"
   ]
  },
  {
   "cell_type": "code",
   "execution_count": 10,
   "metadata": {},
   "outputs": [
    {
     "data": {
      "text/plain": [
       "array([[  0.        , -13.99994072, -19.99991477, -21.99990619],\n",
       "       [-13.99994072, -17.99992725, -19.99992101, -19.99992192],\n",
       "       [-19.99991477, -19.99992101, -17.99993335, -13.99995024],\n",
       "       [-21.99990619, -19.99992192, -13.99995024,   0.        ]])"
      ]
     },
     "execution_count": 10,
     "metadata": {},
     "output_type": "execute_result"
    }
   ],
   "source": [
    "# evaluate a random policy in gridworld\n",
    "\n",
    "random_policy = np.ones([env.nS, env.nA]) / env.nA   #25% in all directions\n",
    "v = policy_eval(random_policy, env)\n",
    "v.reshape(env.shape)"
   ]
  },
  {
   "cell_type": "code",
   "execution_count": 11,
   "metadata": {},
   "outputs": [],
   "source": [
    "def policy_improvement(env, policy_eval_fn=policy_eval, discount_factor=1.0):\n",
    "    \"\"\"\n",
    "    function to improve policy greedily\n",
    "    \n",
    "    input: gym env, policy evaluation function\n",
    "    output: learned policy, value function\n",
    "    \n",
    "    \"\"\"\n",
    "    \n",
    "    def one_step_lookahead(state,v):\n",
    "        value = np.zeros(env.nA)\n",
    "        for action in range(env.nA):\n",
    "            for prob,next_state,reward,done in env.P[state][action]:\n",
    "                value[action]+=prob*(reward+v[next_state]*discount_factor)\n",
    "        \n",
    "        return value\n",
    "    \n",
    "    \n",
    "    policy = np.ones([env.nS, env.nA]) / env.nA #start with random policy\n",
    "    \n",
    "    i=0\n",
    "    while True:\n",
    "        i+=1\n",
    "        flag = True\n",
    "        value = policy_eval(policy,env)\n",
    "        for s in range(env.nS):\n",
    "            a_index = np.argmax(policy[s])\n",
    "            a_greedy = np.argmax(one_step_lookahead(s,value))\n",
    "            \n",
    "            if(a_index!=a_greedy):\n",
    "                flag = False\n",
    "            policy[s] = np.zeros(env.nA)\n",
    "            policy[s][a_greedy]=1.0\n",
    "        \n",
    "        if flag:\n",
    "            break\n",
    "            \n",
    "    print(\"policy learnt in {} policy iterations\".format(i))\n",
    "    \n",
    "    return policy, policy_eval(policy,env)"
   ]
  },
  {
   "cell_type": "code",
   "execution_count": 15,
   "metadata": {},
   "outputs": [
    {
     "name": "stdout",
     "output_type": "stream",
     "text": [
      "policy learnt in 3 policy iterations\n",
      "\n",
      "Reshaped Grid Policy (0=up, 1=right, 2=down, 3=left):\n",
      "[[0 3 3 2]\n",
      " [0 0 0 2]\n",
      " [0 0 1 2]\n",
      " [0 1 1 0]]\n",
      "\n",
      "Reshaped Grid Value Function:\n",
      "[[ 0. -1. -2. -3.]\n",
      " [-1. -2. -3. -2.]\n",
      " [-2. -3. -2. -1.]\n",
      " [-3. -2. -1.  0.]]\n",
      "\n"
     ]
    }
   ],
   "source": [
    "policy, v= policy_improvement(env)\n",
    "\n",
    "print(\"\")\n",
    "print(\"Reshaped Grid Policy (0=up, 1=right, 2=down, 3=left):\")\n",
    "print(np.argmax(policy, axis=1).reshape(env.shape))\n",
    "print(\"\")\n",
    "\n",
    "print(\"Reshaped Grid Value Function:\")\n",
    "print(v.reshape(env.shape))\n",
    "print(\"\")"
   ]
  },
  {
   "cell_type": "markdown",
   "metadata": {},
   "source": [
    "## Value iteration "
   ]
  },
  {
   "cell_type": "code",
   "execution_count": 11,
   "metadata": {},
   "outputs": [],
   "source": [
    "def value_iteration(env,discount_factor = 1.0):\n",
    "    \n",
    "    def one_step_lookahead(state,v):\n",
    "        value = np.zeros(env.nA)\n",
    "        for action in range(env.nA):\n",
    "            for prob,next_state,reward,done in env.P[state][action]:\n",
    "                value[action]+=prob*(reward+v[next_state]*discount_factor)\n",
    "\n",
    "        return value\n",
    "    \n",
    "    value = np.zeros(env.nS)\n",
    "    policy = np.zeros([env.nS,env.nA])\n",
    "    \n",
    "    while True:\n",
    "        change = 0\n",
    "        for s in range(env.nS):\n",
    "            v = np.max(one_step_lookahead(s,value))\n",
    "            change+=abs(v-value[s])\n",
    "            value[s]=v\n",
    "        if change<1e-4:\n",
    "            break\n",
    "    \n",
    "    for s in range(env.nS):\n",
    "        a_greedy = np.argmax(one_step_lookahead(s,value))\n",
    "        policy[s][a_greedy] = 1.0\n",
    "\n",
    "    return policy,value"
   ]
  },
  {
   "cell_type": "code",
   "execution_count": 12,
   "metadata": {},
   "outputs": [
    {
     "name": "stdout",
     "output_type": "stream",
     "text": [
      "Reshaped Grid Policy (0=up, 1=right, 2=down, 3=left):\n",
      "[[0 3 3 2]\n",
      " [0 0 0 2]\n",
      " [0 0 1 2]\n",
      " [0 1 1 0]]\n",
      "\n",
      "Reshaped Grid Value Function:\n",
      "[[ 0. -1. -2. -3.]\n",
      " [-1. -2. -3. -2.]\n",
      " [-2. -3. -2. -1.]\n",
      " [-3. -2. -1.  0.]]\n",
      "\n",
      "CPU times: user 22.1 ms, sys: 2.68 ms, total: 24.8 ms\n",
      "Wall time: 20.9 ms\n"
     ]
    }
   ],
   "source": [
    "%%time\n",
    "policy, v = value_iteration(env)\n",
    "print(\"Reshaped Grid Policy (0=up, 1=right, 2=down, 3=left):\")\n",
    "print(np.argmax(policy, axis=1).reshape(env.shape))\n",
    "print(\"\")\n",
    "\n",
    "print(\"Reshaped Grid Value Function:\")\n",
    "print(v.reshape(env.shape))\n",
    "print(\"\")\n"
   ]
  }
 ],
 "metadata": {
  "kernelspec": {
   "display_name": "Python 3",
   "language": "python",
   "name": "python3"
  },
  "language_info": {
   "codemirror_mode": {
    "name": "ipython",
    "version": 3
   },
   "file_extension": ".py",
   "mimetype": "text/x-python",
   "name": "python",
   "nbconvert_exporter": "python",
   "pygments_lexer": "ipython3",
   "version": "3.7.3"
  }
 },
 "nbformat": 4,
 "nbformat_minor": 2
}
